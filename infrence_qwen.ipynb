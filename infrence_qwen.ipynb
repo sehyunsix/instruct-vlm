{
 "cells": [
  {
   "cell_type": "code",
   "execution_count": 1,
   "id": "3331b9bf-26fb-4f8b-bdbf-6c1e77e8173f",
   "metadata": {},
   "outputs": [
    {
     "ename": "ModuleNotFoundError",
     "evalue": "No module named 'transformers'",
     "output_type": "error",
     "traceback": [
      "\u001b[31m---------------------------------------------------------------------------\u001b[39m",
      "\u001b[31mModuleNotFoundError\u001b[39m                       Traceback (most recent call last)",
      "\u001b[36mCell\u001b[39m\u001b[36m \u001b[39m\u001b[32mIn[1]\u001b[39m\u001b[32m, line 1\u001b[39m\n\u001b[32m----> \u001b[39m\u001b[32m1\u001b[39m \u001b[38;5;28;01mfrom\u001b[39;00m\u001b[38;5;250m \u001b[39m\u001b[34;01mtransformers\u001b[39;00m\u001b[38;5;250m \u001b[39m\u001b[38;5;28;01mimport\u001b[39;00m Qwen2_5_VLForConditionalGeneration, AutoTokenizer, AutoProcessor\n\u001b[32m      2\u001b[39m \u001b[38;5;28;01mfrom\u001b[39;00m\u001b[38;5;250m \u001b[39m\u001b[34;01mqwen_vl_utils\u001b[39;00m\u001b[38;5;250m \u001b[39m\u001b[38;5;28;01mimport\u001b[39;00m process_vision_info\n\u001b[32m      3\u001b[39m \u001b[38;5;28;01mimport\u001b[39;00m\u001b[38;5;250m \u001b[39m\u001b[34;01mtorch\u001b[39;00m\n",
      "\u001b[31mModuleNotFoundError\u001b[39m: No module named 'transformers'"
     ]
    }
   ],
   "source": [
    "from transformers import Qwen2_5_VLForConditionalGeneration, AutoTokenizer, AutoProcessor\n",
    "from qwen_vl_utils import process_vision_info\n",
    "import torch\n",
    "# default: Load the model on the available device(s)\n",
    "# model = Qwen2_5_VLForConditionalGeneration.from_pretrained(\n",
    "#     \"Qwen/Qwen2.5-VL-7B-Instruct\", torch_dtype=\"auto\", device_map=\"auto\"\n",
    "# )\n",
    "\n",
    "# We recommend enabling flash_attention_2 for better acceleration and memory saving, especially in multi-image and video scenarios.\n",
    "model = Qwen2_5_VLForConditionalGeneration.from_pretrained(\n",
    "    \"Qwen/Qwen2.5-VL-7B-Instruct\",\n",
    "    torch_dtype=torch.bfloat16,\n",
    "    attn_implementation=\"flash_attention_2\",\n",
    "    device_map=\"cuda\",\n",
    ")\n",
    "\n",
    "# default processer\n",
    "# processor = AutoProcessor.from_pretrained(\"Qwen/Qwen2.5-VL-7B-Instruct\")\n",
    "\n",
    "# The default range for the number of visual tokens per image in the model is 4-16384.\n",
    "# You can set min_pixels and max_pixels according to your needs, such as a token range of 256-1280, to balance performance and cost.\n",
    "min_pixels = 256*28*28\n",
    "max_pixels = 1280*28*28\n",
    "processor = AutoProcessor.from_pretrained(\"Qwen/Qwen2.5-VL-7B-Instruct\", min_pixels=min_pixels, max_pixels=max_pixels)\n",
    "\n",
    "messages = [\n",
    "    {\n",
    "        \"role\": \"user\",\n",
    "        \"content\": [\n",
    "            {\n",
    "                \"type\": \"image\",\n",
    "                \"image\": \"https://qianwen-res.oss-cn-beijing.aliyuncs.com/Qwen-VL/assets/demo.jpeg\",\n",
    "            },\n",
    "            {\"type\": \"text\", \"text\": \"Describe this image.\"},\n",
    "        ],\n",
    "    }\n",
    "]\n"
   ]
  },
  {
   "cell_type": "code",
   "execution_count": 1,
   "id": "93aed526-66d3-4cd0-a728-308267362174",
   "metadata": {},
   "outputs": [],
   "source": [
    "import pandas as pd\n",
    "from tqdm import tqdm"
   ]
  },
  {
   "cell_type": "code",
   "execution_count": 5,
   "id": "b8df82f8-3318-4b38-bd06-676fe476a8c1",
   "metadata": {},
   "outputs": [
    {
     "name": "stdout",
     "output_type": "stream",
     "text": [
      "압축 해제 완료\n"
     ]
    }
   ],
   "source": [
    "import zipfile\n",
    "\n",
    "zip_path = 'deeplearningchallenge.zip'\n",
    "extract_path = './data'\n",
    "\n",
    "with zipfile.ZipFile(zip_path, 'r') as zip_ref:\n",
    "    zip_ref.extractall(extract_path)\n",
    "\n",
    "print(\"압축 해제 완료\")"
   ]
  },
  {
   "cell_type": "code",
   "execution_count": 7,
   "id": "e68fbb28-dcf2-43ce-b733-077819dade8a",
   "metadata": {},
   "outputs": [],
   "source": [
    "df =pd.read_parquet('data/deep_chal_multitask_dataset.parquet')"
   ]
  },
  {
   "cell_type": "code",
   "execution_count": 8,
   "id": "7b471dd0-a61d-4814-96f2-faba38fb52e4",
   "metadata": {},
   "outputs": [
    {
     "data": {
      "text/html": [
       "<div>\n",
       "<style scoped>\n",
       "    .dataframe tbody tr th:only-of-type {\n",
       "        vertical-align: middle;\n",
       "    }\n",
       "\n",
       "    .dataframe tbody tr th {\n",
       "        vertical-align: top;\n",
       "    }\n",
       "\n",
       "    .dataframe thead th {\n",
       "        text-align: right;\n",
       "    }\n",
       "</style>\n",
       "<table border=\"1\" class=\"dataframe\">\n",
       "  <thead>\n",
       "    <tr style=\"text-align: right;\">\n",
       "      <th></th>\n",
       "      <th>input_type</th>\n",
       "      <th>task</th>\n",
       "      <th>input</th>\n",
       "      <th>output</th>\n",
       "      <th>question</th>\n",
       "    </tr>\n",
       "  </thead>\n",
       "  <tbody>\n",
       "    <tr>\n",
       "      <th>0</th>\n",
       "      <td>image</td>\n",
       "      <td>captioning</td>\n",
       "      <td>https://i.pinimg.com/originals/42/97/1b/42971b...</td>\n",
       "      <td>\\nThe image is a painting of a man in a purple...</td>\n",
       "      <td></td>\n",
       "    </tr>\n",
       "    <tr>\n",
       "      <th>1</th>\n",
       "      <td>image</td>\n",
       "      <td>captioning</td>\n",
       "      <td>https://pulpcovers.com/wp-content/uploads/2014...</td>\n",
       "      <td>\\nThe image is the cover of a book titled \"The...</td>\n",
       "      <td></td>\n",
       "    </tr>\n",
       "    <tr>\n",
       "      <th>2</th>\n",
       "      <td>image</td>\n",
       "      <td>captioning</td>\n",
       "      <td>https://pulpcovers.com/wp-content/uploads/2016...</td>\n",
       "      <td>\\nThe image is the cover of a book titled \"The...</td>\n",
       "      <td></td>\n",
       "    </tr>\n",
       "    <tr>\n",
       "      <th>3</th>\n",
       "      <td>image</td>\n",
       "      <td>captioning</td>\n",
       "      <td>https://i.pinimg.com/originals/35/c4/bb/35c4bb...</td>\n",
       "      <td>\\nThe image is a painting of a spaceship flyin...</td>\n",
       "      <td></td>\n",
       "    </tr>\n",
       "    <tr>\n",
       "      <th>4</th>\n",
       "      <td>image</td>\n",
       "      <td>captioning</td>\n",
       "      <td>https://pulpcovers.com/wp-content/uploads/2011...</td>\n",
       "      <td>\\nThe image is the cover of a book titled \"Wes...</td>\n",
       "      <td></td>\n",
       "    </tr>\n",
       "    <tr>\n",
       "      <th>5</th>\n",
       "      <td>image</td>\n",
       "      <td>captioning</td>\n",
       "      <td>https://pulpcovers.com/wp-content/uploads/2020...</td>\n",
       "      <td>\\nThe image is the cover of a magazine titled ...</td>\n",
       "      <td></td>\n",
       "    </tr>\n",
       "    <tr>\n",
       "      <th>6</th>\n",
       "      <td>image</td>\n",
       "      <td>captioning</td>\n",
       "      <td>https://pulpcovers.com/wp-content/uploads/2012...</td>\n",
       "      <td>\\nThe image is the cover of a book titled \"The...</td>\n",
       "      <td></td>\n",
       "    </tr>\n",
       "    <tr>\n",
       "      <th>7</th>\n",
       "      <td>image</td>\n",
       "      <td>captioning</td>\n",
       "      <td>https://pulpcovers.com/wp-content/uploads/2013...</td>\n",
       "      <td>\\nThe image is a painting of a man and a woman...</td>\n",
       "      <td></td>\n",
       "    </tr>\n",
       "    <tr>\n",
       "      <th>8</th>\n",
       "      <td>image</td>\n",
       "      <td>captioning</td>\n",
       "      <td>https://i.pinimg.com/originals/2a/67/71/2a6771...</td>\n",
       "      <td>\\nThe image is a digital illustration of a spa...</td>\n",
       "      <td></td>\n",
       "    </tr>\n",
       "    <tr>\n",
       "      <th>9</th>\n",
       "      <td>image</td>\n",
       "      <td>captioning</td>\n",
       "      <td>https://pulpcovers.com/wp-content/uploads/2015...</td>\n",
       "      <td>\\nThe image is the cover of a magazine titled ...</td>\n",
       "      <td></td>\n",
       "    </tr>\n",
       "  </tbody>\n",
       "</table>\n",
       "</div>"
      ],
      "text/plain": [
       "  input_type        task                                              input  \\\n",
       "0      image  captioning  https://i.pinimg.com/originals/42/97/1b/42971b...   \n",
       "1      image  captioning  https://pulpcovers.com/wp-content/uploads/2014...   \n",
       "2      image  captioning  https://pulpcovers.com/wp-content/uploads/2016...   \n",
       "3      image  captioning  https://i.pinimg.com/originals/35/c4/bb/35c4bb...   \n",
       "4      image  captioning  https://pulpcovers.com/wp-content/uploads/2011...   \n",
       "5      image  captioning  https://pulpcovers.com/wp-content/uploads/2020...   \n",
       "6      image  captioning  https://pulpcovers.com/wp-content/uploads/2012...   \n",
       "7      image  captioning  https://pulpcovers.com/wp-content/uploads/2013...   \n",
       "8      image  captioning  https://i.pinimg.com/originals/2a/67/71/2a6771...   \n",
       "9      image  captioning  https://pulpcovers.com/wp-content/uploads/2015...   \n",
       "\n",
       "                                              output question  \n",
       "0  \\nThe image is a painting of a man in a purple...           \n",
       "1  \\nThe image is the cover of a book titled \"The...           \n",
       "2  \\nThe image is the cover of a book titled \"The...           \n",
       "3  \\nThe image is a painting of a spaceship flyin...           \n",
       "4  \\nThe image is the cover of a book titled \"Wes...           \n",
       "5  \\nThe image is the cover of a magazine titled ...           \n",
       "6  \\nThe image is the cover of a book titled \"The...           \n",
       "7  \\nThe image is a painting of a man and a woman...           \n",
       "8  \\nThe image is a digital illustration of a spa...           \n",
       "9  \\nThe image is the cover of a magazine titled ...           "
      ]
     },
     "execution_count": 8,
     "metadata": {},
     "output_type": "execute_result"
    }
   ],
   "source": [
    "df.head(10)"
   ]
  },
  {
   "cell_type": "code",
   "execution_count": 4,
   "id": "7484b521-4fd9-42fd-8e86-052855cd68dd",
   "metadata": {},
   "outputs": [],
   "source": [
    " test_df = pd.read_parquet('data/deep_chal_multitask_dataset_test.parquet')"
   ]
  },
  {
   "cell_type": "code",
   "execution_count": 5,
   "id": "8791d223-e185-4cd5-be03-0cf6f2a754de",
   "metadata": {},
   "outputs": [
    {
     "data": {
      "text/plain": [
       "input_type                                                image\n",
       "task                                                        vqa\n",
       "input         iVBORw0KGgoAAAANSUhEUgAABvsAAAjuCAAAAAABWKp2AA...\n",
       "question          Which food contains 30 mg./100g. of Sodium  ?\n",
       "Name: 500, dtype: object"
      ]
     },
     "execution_count": 5,
     "metadata": {},
     "output_type": "execute_result"
    }
   ],
   "source": [
    "test_df.iloc[500]"
   ]
  },
  {
   "cell_type": "code",
   "execution_count": 6,
   "id": "ad097c13-6663-4ffa-b5c0-6fd268bd08d7",
   "metadata": {},
   "outputs": [
    {
     "name": "stderr",
     "output_type": "stream",
     "text": [
      "11it [00:02,  6.72it/s]/workspace/.venv/lib/python3.11/site-packages/PIL/Image.py:3452: DecompressionBombWarning: Image size (97915360 pixels) exceeds limit of 89478485 pixels, could be decompression bomb DOS attack.\n",
      "  warnings.warn(\n",
      "71it [00:21,  1.27it/s]"
     ]
    },
    {
     "name": "stdout",
     "output_type": "stream",
     "text": [
      "Error processing vision info for row 69: cannot identify image file <_io.BytesIO object at 0x7bbbd4972ca0>\n"
     ]
    },
    {
     "name": "stderr",
     "output_type": "stream",
     "text": [
      "90it [00:26,  2.28it/s]"
     ]
    },
    {
     "name": "stdout",
     "output_type": "stream",
     "text": [
      "Error processing vision info for row 88: cannot identify image file <_io.BytesIO object at 0x7bbb5cd23560>\n"
     ]
    },
    {
     "name": "stderr",
     "output_type": "stream",
     "text": [
      "268it [01:15,  1.46it/s]"
     ]
    },
    {
     "name": "stdout",
     "output_type": "stream",
     "text": [
      "Error processing vision info for row 267: cannot identify image file <_io.BytesIO object at 0x7bbb5cd23600>\n"
     ]
    },
    {
     "name": "stderr",
     "output_type": "stream",
     "text": [
      "359it [01:39,  1.90it/s]"
     ]
    },
    {
     "name": "stdout",
     "output_type": "stream",
     "text": [
      "Error processing vision info for row 357: cannot identify image file <_io.BytesIO object at 0x7bbb5cd04d10>\n"
     ]
    },
    {
     "name": "stderr",
     "output_type": "stream",
     "text": [
      "379it [01:46,  2.10it/s]"
     ]
    },
    {
     "name": "stdout",
     "output_type": "stream",
     "text": [
      "Error processing vision info for row 377: cannot identify image file <_io.BytesIO object at 0x7bbb5cfd6890>\n"
     ]
    },
    {
     "name": "stderr",
     "output_type": "stream",
     "text": [
      "530it [02:15, 34.97it/s]IOPub data rate exceeded.\n",
      "The Jupyter server will temporarily stop sending output\n",
      "to the client in order to avoid crashing it.\n",
      "To change this limit, set the config variable\n",
      "`--ServerApp.iopub_data_rate_limit`.\n",
      "\n",
      "Current values:\n",
      "ServerApp.iopub_data_rate_limit=1000000.0 (bytes/sec)\n",
      "ServerApp.rate_limit_window=3.0 (secs)\n",
      "\n",
      "586it [02:15, 85.79it/s]IOPub data rate exceeded.\n",
      "The Jupyter server will temporarily stop sending output\n",
      "to the client in order to avoid crashing it.\n",
      "To change this limit, set the config variable\n",
      "`--ServerApp.iopub_data_rate_limit`.\n",
      "\n",
      "Current values:\n",
      "ServerApp.iopub_data_rate_limit=1000000.0 (bytes/sec)\n",
      "ServerApp.rate_limit_window=3.0 (secs)\n",
      "\n",
      "634it [02:16, 94.17it/s]IOPub data rate exceeded.\n",
      "The Jupyter server will temporarily stop sending output\n",
      "to the client in order to avoid crashing it.\n",
      "To change this limit, set the config variable\n",
      "`--ServerApp.iopub_data_rate_limit`.\n",
      "\n",
      "Current values:\n",
      "ServerApp.iopub_data_rate_limit=1000000.0 (bytes/sec)\n",
      "ServerApp.rate_limit_window=3.0 (secs)\n",
      "\n",
      "687it [02:17, 99.55it/s]IOPub data rate exceeded.\n",
      "The Jupyter server will temporarily stop sending output\n",
      "to the client in order to avoid crashing it.\n",
      "To change this limit, set the config variable\n",
      "`--ServerApp.iopub_data_rate_limit`.\n",
      "\n",
      "Current values:\n",
      "ServerApp.iopub_data_rate_limit=1000000.0 (bytes/sec)\n",
      "ServerApp.rate_limit_window=3.0 (secs)\n",
      "\n",
      "725it [02:17, 87.62it/s]IOPub data rate exceeded.\n",
      "The Jupyter server will temporarily stop sending output\n",
      "to the client in order to avoid crashing it.\n",
      "To change this limit, set the config variable\n",
      "`--ServerApp.iopub_data_rate_limit`.\n",
      "\n",
      "Current values:\n",
      "ServerApp.iopub_data_rate_limit=1000000.0 (bytes/sec)\n",
      "ServerApp.rate_limit_window=3.0 (secs)\n",
      "\n",
      "786it [02:18, 106.22it/s]IOPub data rate exceeded.\n",
      "The Jupyter server will temporarily stop sending output\n",
      "to the client in order to avoid crashing it.\n",
      "To change this limit, set the config variable\n",
      "`--ServerApp.iopub_data_rate_limit`.\n",
      "\n",
      "Current values:\n",
      "ServerApp.iopub_data_rate_limit=1000000.0 (bytes/sec)\n",
      "ServerApp.rate_limit_window=3.0 (secs)\n",
      "\n",
      "825it [02:18, 93.45it/s]IOPub data rate exceeded.\n",
      "The Jupyter server will temporarily stop sending output\n",
      "to the client in order to avoid crashing it.\n",
      "To change this limit, set the config variable\n",
      "`--ServerApp.iopub_data_rate_limit`.\n",
      "\n",
      "Current values:\n",
      "ServerApp.iopub_data_rate_limit=1000000.0 (bytes/sec)\n",
      "ServerApp.rate_limit_window=3.0 (secs)\n",
      "\n",
      "882it [02:19, 87.91it/s]IOPub data rate exceeded.\n",
      "The Jupyter server will temporarily stop sending output\n",
      "to the client in order to avoid crashing it.\n",
      "To change this limit, set the config variable\n",
      "`--ServerApp.iopub_data_rate_limit`.\n",
      "\n",
      "Current values:\n",
      "ServerApp.iopub_data_rate_limit=1000000.0 (bytes/sec)\n",
      "ServerApp.rate_limit_window=3.0 (secs)\n",
      "\n",
      "917it [02:19, 79.96it/s]IOPub data rate exceeded.\n",
      "The Jupyter server will temporarily stop sending output\n",
      "to the client in order to avoid crashing it.\n",
      "To change this limit, set the config variable\n",
      "`--ServerApp.iopub_data_rate_limit`.\n",
      "\n",
      "Current values:\n",
      "ServerApp.iopub_data_rate_limit=1000000.0 (bytes/sec)\n",
      "ServerApp.rate_limit_window=3.0 (secs)\n",
      "\n",
      "980it [02:20, 91.09it/s]IOPub data rate exceeded.\n",
      "The Jupyter server will temporarily stop sending output\n",
      "to the client in order to avoid crashing it.\n",
      "To change this limit, set the config variable\n",
      "`--ServerApp.iopub_data_rate_limit`.\n",
      "\n",
      "Current values:\n",
      "ServerApp.iopub_data_rate_limit=1000000.0 (bytes/sec)\n",
      "ServerApp.rate_limit_window=3.0 (secs)\n",
      "\n",
      "2500it [02:24, 17.36it/s] \n"
     ]
    }
   ],
   "source": [
    "batches = []\n",
    "for index, row in tqdm(test_df.iterrows()):\n",
    "    messages = [{\n",
    "        \"role\": \"user\",\n",
    "        \"content\": [\n",
    "            {\n",
    "                \"type\": row['input_type'],\n",
    "                row['input_type']: row['input'],\n",
    "            },\n",
    "            {\"type\": \"text\", \"text\": \"Do the task : \" + row['task']},\n",
    "            {\"type\": \"text\", \"text\": \"use this if task is qa task \\n question: \" + row['question']},\n",
    "        ],\n",
    "    }]\n",
    "    text = processor.apply_chat_template(\n",
    "        messages, tokenize=False, add_generation_prompt=True\n",
    "    )\n",
    "    try:\n",
    "        image_inputs, video_inputs = process_vision_info(messages)\n",
    "    except Exception as e:\n",
    "        print(f\"Error processing vision info for row {index}: {str(e)}\")\n",
    "        messages = [{\n",
    "        \"role\": \"user\",\n",
    "        \"content\": [\n",
    "            {\n",
    "                \"type\": \"text\",\n",
    "                \"text\": row['input'],\n",
    "            },\n",
    "            {\"type\": \"text\", \"text\": \"Do the task : \" + row['task']},\n",
    "        ],\n",
    "        }]\n",
    "        image_inputs, video_inputs = process_vision_info(messages)\n",
    "    inputs = processor(\n",
    "        text=[text],\n",
    "        images=image_inputs,\n",
    "        videos=video_inputs,\n",
    "        padding=True,\n",
    "        return_tensors=\"pt\",\n",
    "    )\n",
    "    batches.append(inputs)"
   ]
  },
  {
   "cell_type": "code",
   "execution_count": 13,
   "id": "9dcf2d6c-be64-4127-abf6-a6fb4e7aac83",
   "metadata": {},
   "outputs": [
    {
     "name": "stderr",
     "output_type": "stream",
     "text": [
      "2500it [1:49:16,  2.62s/it]\n"
     ]
    }
   ],
   "source": [
    "\n",
    "\n",
    "# short_test_df= test_df.iloc[:10]\n",
    "results=[]\n",
    "for index, batch in tqdm(enumerate(batches)):\n",
    "    inputs=batch\n",
    "    inputs = inputs.to(\"cuda\")\n",
    "    \n",
    "    # Inference: Generation of the output\n",
    "    with torch.no_grad():\n",
    "        generated_ids = model.generate(**inputs, max_new_tokens=128)\n",
    "    generated_ids_trimmed = [\n",
    "        out_ids[len(in_ids) :] for in_ids, out_ids in zip(inputs.input_ids, generated_ids)\n",
    "    ]\n",
    "    output_text = processor.batch_decode(\n",
    "        generated_ids_trimmed, skip_special_tokens=True, clean_up_tokenization_spaces=False\n",
    "    )\n",
    "    del inputs\n",
    "    torch.cuda.empty_cache()\n",
    "    results.append({\"ID\" : index , \"Output\":output_text})"
   ]
  },
  {
   "cell_type": "code",
   "execution_count": 15,
   "id": "fd7a0e85-5e93-4503-a5b2-6750b9ce71f8",
   "metadata": {},
   "outputs": [],
   "source": [
    "result =pd.DataFrame(results)"
   ]
  },
  {
   "cell_type": "code",
   "execution_count": 80,
   "id": "a0d368fd-f8c0-47a8-a38c-08bc11ad7bea",
   "metadata": {},
   "outputs": [],
   "source": [
    "import gc\n",
    "del batches\n",
    "del model\n",
    "del results"
   ]
  },
  {
   "cell_type": "code",
   "execution_count": 23,
   "id": "3b640f04-4d44-4834-91e1-7e7660be3f74",
   "metadata": {},
   "outputs": [
    {
     "data": {
      "text/html": [
       "<div>\n",
       "<style scoped>\n",
       "    .dataframe tbody tr th:only-of-type {\n",
       "        vertical-align: middle;\n",
       "    }\n",
       "\n",
       "    .dataframe tbody tr th {\n",
       "        vertical-align: top;\n",
       "    }\n",
       "\n",
       "    .dataframe thead th {\n",
       "        text-align: right;\n",
       "    }\n",
       "</style>\n",
       "<table border=\"1\" class=\"dataframe\">\n",
       "  <thead>\n",
       "    <tr style=\"text-align: right;\">\n",
       "      <th></th>\n",
       "      <th>id</th>\n",
       "      <th>output</th>\n",
       "    </tr>\n",
       "  </thead>\n",
       "  <tbody>\n",
       "    <tr>\n",
       "      <th>0</th>\n",
       "      <td>0</td>\n",
       "      <td>The image appears to be a vintage illustration...</td>\n",
       "    </tr>\n",
       "    <tr>\n",
       "      <th>1</th>\n",
       "      <td>1</td>\n",
       "      <td>The image is of a book cover titled \"Young Lon...</td>\n",
       "    </tr>\n",
       "    <tr>\n",
       "      <th>2</th>\n",
       "      <td>2</td>\n",
       "      <td>The image is a cover of \"Detective Fiction Wee...</td>\n",
       "    </tr>\n",
       "    <tr>\n",
       "      <th>3</th>\n",
       "      <td>3</td>\n",
       "      <td>The image is a cover of a pulp fiction magazin...</td>\n",
       "    </tr>\n",
       "    <tr>\n",
       "      <th>4</th>\n",
       "      <td>4</td>\n",
       "      <td>The image appears to be a vintage poster adver...</td>\n",
       "    </tr>\n",
       "    <tr>\n",
       "      <th>...</th>\n",
       "      <td>...</td>\n",
       "      <td>...</td>\n",
       "    </tr>\n",
       "    <tr>\n",
       "      <th>2495</th>\n",
       "      <td>2495</td>\n",
       "      <td>The question \"Why was Alan going to the farm t...</td>\n",
       "    </tr>\n",
       "    <tr>\n",
       "      <th>2496</th>\n",
       "      <td>2496</td>\n",
       "      <td>No, she does not believe him.</td>\n",
       "    </tr>\n",
       "    <tr>\n",
       "      <th>2497</th>\n",
       "      <td>2497</td>\n",
       "      <td>One instrument that uses A4 (440 Hz) to tune i...</td>\n",
       "    </tr>\n",
       "    <tr>\n",
       "      <th>2498</th>\n",
       "      <td>2498</td>\n",
       "      <td>The wallet was found by Prince.</td>\n",
       "    </tr>\n",
       "    <tr>\n",
       "      <th>2499</th>\n",
       "      <td>2499</td>\n",
       "      <td>The state that Las Vegas is in is Nevada.</td>\n",
       "    </tr>\n",
       "  </tbody>\n",
       "</table>\n",
       "<p>2500 rows × 2 columns</p>\n",
       "</div>"
      ],
      "text/plain": [
       "        id                                             output\n",
       "0        0  The image appears to be a vintage illustration...\n",
       "1        1  The image is of a book cover titled \"Young Lon...\n",
       "2        2  The image is a cover of \"Detective Fiction Wee...\n",
       "3        3  The image is a cover of a pulp fiction magazin...\n",
       "4        4  The image appears to be a vintage poster adver...\n",
       "...    ...                                                ...\n",
       "2495  2495  The question \"Why was Alan going to the farm t...\n",
       "2496  2496                      No, she does not believe him.\n",
       "2497  2497  One instrument that uses A4 (440 Hz) to tune i...\n",
       "2498  2498                    The wallet was found by Prince.\n",
       "2499  2499          The state that Las Vegas is in is Nevada.\n",
       "\n",
       "[2500 rows x 2 columns]"
      ]
     },
     "execution_count": 23,
     "metadata": {},
     "output_type": "execute_result"
    }
   ],
   "source": [
    "result"
   ]
  },
  {
   "cell_type": "code",
   "execution_count": 81,
   "id": "c7effe4a-1140-48d9-a93a-df3476bc44ae",
   "metadata": {},
   "outputs": [],
   "source": [
    "torch.cuda.empty_cache()"
   ]
  },
  {
   "cell_type": "code",
   "execution_count": 22,
   "id": "147130dd-8da9-4456-b9a3-e98a8734d5b4",
   "metadata": {},
   "outputs": [],
   "source": [
    "result = result.rename(columns={\"ID\": \"id\"})          # ID → id\n",
    "result= result.rename(columns={\"Output\":\"output\"})"
   ]
  },
  {
   "cell_type": "code",
   "execution_count": 25,
   "id": "1c2cc004-86ce-4ffc-9b73-c1bd58da39a7",
   "metadata": {},
   "outputs": [],
   "source": [
    "result.to_csv('subimission-08021143.csv')"
   ]
  },
  {
   "cell_type": "code",
   "execution_count": 1,
   "id": "54feb40c-b310-4147-a7e6-2bfe8f27ac0a",
   "metadata": {},
   "outputs": [
    {
     "ename": "SyntaxError",
     "evalue": "invalid syntax (3905757731.py, line 1)",
     "output_type": "error",
     "traceback": [
      "  \u001b[36mCell\u001b[39m\u001b[36m \u001b[39m\u001b[32mIn[1]\u001b[39m\u001b[32m, line 1\u001b[39m\n\u001b[31m    \u001b[39m\u001b[31mkaggle competitions download -c deeplearningchallenge\u001b[39m\n           ^\n\u001b[31mSyntaxError\u001b[39m\u001b[31m:\u001b[39m invalid syntax\n"
     ]
    }
   ],
   "source": []
  }
 ],
 "metadata": {
  "kernelspec": {
   "display_name": "sh",
   "language": "python",
   "name": "sh"
  },
  "language_info": {
   "codemirror_mode": {
    "name": "ipython",
    "version": 3
   },
   "file_extension": ".py",
   "mimetype": "text/x-python",
   "name": "python",
   "nbconvert_exporter": "python",
   "pygments_lexer": "ipython3",
   "version": "3.11.11"
  }
 },
 "nbformat": 4,
 "nbformat_minor": 5
}
